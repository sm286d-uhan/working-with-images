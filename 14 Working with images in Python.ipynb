{
 "cells": [
  {
   "cell_type": "markdown",
   "metadata": {
    "hide_cell": true
   },
   "source": [
    "<span class='note'><i>Make me look good.</i> Click on the cell below and press <kbd>Ctrl</kbd>+<kbd>Enter</kbd>.</span>"
   ]
  },
  {
   "cell_type": "code",
   "execution_count": null,
   "metadata": {
    "hide_cell": true
   },
   "outputs": [],
   "source": [
    "from IPython.core.display import HTML\n",
    "HTML(open('css/custom.css', 'r').read())"
   ]
  },
  {
   "cell_type": "markdown",
   "metadata": {
    "hide_cell": true
   },
   "source": [
    "<h5 class='prehead'>SM286D &middot; Introduction to Applied Mathematics with Python &middot; Spring 2020 &middot; Uhan</h5>\n",
    "\n",
    "<h5 class='lesson'>Lesson 14.</h5>\n",
    "\n",
    "<h1 class='lesson_title'>Working with images in Python</h1>"
   ]
  },
  {
   "cell_type": "markdown",
   "metadata": {},
   "source": [
    "## This lesson..."
   ]
  },
  {
   "cell_type": "markdown",
   "metadata": {},
   "source": [
    "- The bigger picture\n",
    "- Binary numbers\n",
    "- Digital images: pixels, 8-bit images\n",
    "- Images as matrices"
   ]
  },
  {
   "cell_type": "markdown",
   "metadata": {},
   "source": [
    "---"
   ]
  },
  {
   "cell_type": "markdown",
   "metadata": {},
   "source": [
    "## The bigger picture"
   ]
  },
  {
   "cell_type": "markdown",
   "metadata": {},
   "source": [
    "- In the next lesson, we will learn how to perform __steganography__, or the practice of concealing messages or information within other nonsecret text or data.\n",
    "\n",
    "- In particular, we will learn how to hide a secret image inside another image.\n",
    "\n",
    "- To do this, though, we first need to learn how to work with digital images!"
   ]
  },
  {
   "cell_type": "markdown",
   "metadata": {},
   "source": [
    "## Binary numbers"
   ]
  },
  {
   "cell_type": "markdown",
   "metadata": {},
   "source": [
    "- First, some background on binary numbers.\n",
    " \n",
    "- Figure 1 below shows how the number 1729 can be written using a decimal, or Base 10, expansion."
   ]
  },
  {
   "cell_type": "markdown",
   "metadata": {},
   "source": [
    "<img src=\"img/base10.png\" alt=\"Drawing\" style=\"width:600px;padding-bottom:20px\"/>\n",
    "\n",
    "<center>Figure 1. Example using Base 10 to represent a number.</center>"
   ]
  },
  {
   "cell_type": "markdown",
   "metadata": {},
   "source": [
    "- __Binary numbers__ are Base 2 numbers: each digit can be 0 or 1.\n",
    "    - In a binary number, the digits are also referred to as __bits__.\n",
    "\n",
    "- For example, $[1001]_2$ is a 4-bit binary number. Figure 2 below shows the Base 2 expansion of this binary number."
   ]
  },
  {
   "cell_type": "markdown",
   "metadata": {},
   "source": [
    "<img src=\"img/base2.png\" alt=\"Drawing\" style=\"width:600px;padding-bottom:10px;\"/>\n",
    "\n",
    "<center>Figure 2. Example using Base 2 to represent a number.</center>"
   ]
  },
  {
   "cell_type": "markdown",
   "metadata": {},
   "source": [
    "- Based on the expansion above, the Base 10 equivalent of $[1001]_2$ is\n",
    "\n",
    "    $$\n",
    "    (1 \\times 2^3) + (0 \\times 2^2) + (0 \\times 2^1) + (1 \\times 2^0) = 9.\n",
    "    $$\n",
    "\n",
    "- In a binary number, a 1 is also known as an __on bit__ and a 0 is also known as an __off bit__.\n",
    "\n",
    "- We index the bits from right to left, starting at 0.\n",
    "\n",
    "- The leftmost bit is the __most significant bit__. The rightmost bit is the __least signficant bit__."
   ]
  },
  {
   "cell_type": "markdown",
   "metadata": {},
   "source": [
    "## Digital images"
   ]
  },
  {
   "cell_type": "markdown",
   "metadata": {},
   "source": [
    " - Digital images are really just a collection of picture elements, or __pixels__, as shown below."
   ]
  },
  {
   "cell_type": "markdown",
   "metadata": {},
   "source": [
    "<img src=\"img/pixel.png\" alt=\"Drawing\" style=\"width: 600px;\"/>\n",
    "\n",
    "<center>Figure 3. An example of a digital image made up of pixels.</center>"
   ]
  },
  {
   "cell_type": "markdown",
   "metadata": {},
   "source": [
    "- Each pixel contains color information for the three primary colors, red, green, and blue.\n",
    " \n",
    "- In an 8-bit image, the total number of shades for each color is $2^8 = 256$.\n",
    " \n",
    "- Figure 4 below shows an example of a pixel and its associated color information stored as 8-bit integers."
   ]
  },
  {
   "cell_type": "markdown",
   "metadata": {},
   "source": [
    "<img src=\"img/pixel_as_8-bit_integer.png\" alt=\"Drawing\" style=\"width: 600px;\"/>\n",
    "\n",
    "<center>Figure 4. Color information in a pixel, given as 8-bit integers in binary representation.</center>"
   ]
  },
  {
   "cell_type": "markdown",
   "metadata": {},
   "source": [
    "- The pixel from Figure 4 is shown in Figure 5 below with the 8-bit integers given in their binary and decimal representations."
   ]
  },
  {
   "cell_type": "markdown",
   "metadata": {},
   "source": [
    "<img src=\"img/pixel_with_8-bit_and_base_10.png\" alt=\"Drawing\" style=\"width:600px;padding-bottom:20px;\"/>\n",
    "\n",
    "<center>Figure 5. Example from Figure 4 with 8-bit integers given in both Base 2 and Base 10 representations.</center>"
   ]
  },
  {
   "cell_type": "markdown",
   "metadata": {},
   "source": [
    "## Images as matrices"
   ]
  },
  {
   "cell_type": "markdown",
   "metadata": {},
   "source": [
    "- We can represent the image shown in Figure 6 below as a 3-dimensional NumPy array with dimensions 252 x 447 x 3."
   ]
  },
  {
   "cell_type": "markdown",
   "metadata": {},
   "source": [
    "<img src=\"img/image_matrix_updated.png\" alt=\"Drawing\" style=\"width:600px;padding-bottom:20px;\"/>\n",
    "\n",
    "<center>Figure 6. Representing an image as a NumPy array.</center>"
   ]
  },
  {
   "cell_type": "markdown",
   "metadata": {},
   "source": [
    "- The code in the cell below reads the image file `GooseIsland.jpg`, stores it in a variable called `goose_island`, and plots it as a Matplotlib figure.\n",
    "\n",
    "    - _Note._ You may have to run the code twice to get the image to appear."
   ]
  },
  {
   "cell_type": "code",
   "execution_count": null,
   "metadata": {},
   "outputs": [],
   "source": [
    "import matplotlib.pyplot as plt\n",
    "import matplotlib.image as img\n",
    "\n",
    "# Read the image file called 'GooseIsland.jpg'\n",
    "# Store image information in variable\n",
    "goose_island = img.imread('GooseIsland.jpg')\n",
    "\n",
    "# View the image as a Matplotlib figure\n",
    "plt.imshow(goose_island)"
   ]
  },
  {
   "cell_type": "markdown",
   "metadata": {},
   "source": [
    "- We can access the information stored in a single pixel of the image like this:"
   ]
  },
  {
   "cell_type": "code",
   "execution_count": null,
   "metadata": {},
   "outputs": [],
   "source": [
    "# Get information about pixel 50 rows down from the top of the image\n",
    "# and 75 columns from the left side of the image\n",
    "goose_island[50, 75]"
   ]
  },
  {
   "cell_type": "markdown",
   "metadata": {},
   "source": [
    "- The resulting array contains the red, green, and blue color information for this pixel, represented as 8-bit integers in Base 10.\n",
    "\n",
    "- The color information is actually stored in memory as __unsigned, 8-bit integers__ as indicated by `dtype=uint8`.\n",
    " \n",
    "- For further information about the uint8 data type, see the [NumPy documentation on its data types](https://docs.scipy.org/doc/numpy-1.13.0/user/basics.types.html).\n",
    "\n",
    "- We'll come back to why we care about representing the image color information in Base 2 instead of Base 10 in the next lesson."
   ]
  },
  {
   "cell_type": "markdown",
   "metadata": {},
   "source": [
    "---"
   ]
  },
  {
   "cell_type": "markdown",
   "metadata": {},
   "source": [
    "## Classwork"
   ]
  },
  {
   "cell_type": "markdown",
   "metadata": {},
   "source": [
    "__Problem 1.__\n",
    "Go through the examples below. The examples demonstrate how images can be represented as $m\\times n \\times 3$ arrays of numbers between 0 and 255. After this brief introduction, you should be ready to tackle Problem 2. "
   ]
  },
  {
   "cell_type": "code",
   "execution_count": null,
   "metadata": {},
   "outputs": [],
   "source": [
    "import numpy as np\n",
    "import matplotlib.pyplot as plt\n",
    "\n",
    "# Start by defining M1 as a 3-dimensional array of size 100 x 100 x 3 of 0s\n",
    "# Make sure the array consists of unsigned 8-bit integers with the keyword argument dtype='uint8'\n",
    "# Resulting image is 100 pixels tall and 100 pixels wide\n",
    "# The last dimension is size 3, to represent RGB (red/green/blue) levels\n",
    "M1 = np.zeros((100, 100, 3), dtype='uint8')\n",
    "\n",
    "# Since all color levels = 0, we get a black box.\n",
    "plt.imshow(M1)"
   ]
  },
  {
   "cell_type": "code",
   "execution_count": null,
   "metadata": {},
   "outputs": [],
   "source": [
    "# Start with 100 x 100x 3 array of 0s\n",
    "M2 = np.zeros((100, 100, 3), dtype='uint8')\n",
    "\n",
    "# For each pixel, make its red value 255\n",
    "# Note that we can use slices instead of single indices\n",
    "# Below, we're changing the value of M2[i, j, 0]\n",
    "# for i and j both ranging between 0 and 99\n",
    "M2[0:100, 0:100, 0] = 255\n",
    "\n",
    "# We get a red box\n",
    "plt.imshow(M2)"
   ]
  },
  {
   "cell_type": "code",
   "execution_count": null,
   "metadata": {},
   "outputs": [],
   "source": [
    "# Similar to above, but with green\n",
    "# What's different about this code?\n",
    "M3 = np.zeros((100, 100, 3), dtype='uint8')\n",
    "M3[0:100, 0:100, 1] = 255\n",
    "plt.imshow(M3)"
   ]
  },
  {
   "cell_type": "code",
   "execution_count": null,
   "metadata": {},
   "outputs": [],
   "source": [
    "# Similar to above, but with blue\n",
    "# What's different about this code?\n",
    "M4 = np.zeros((100, 100, 3), dtype='uint8')\n",
    "M4[0:100, 0:100, 2] = 255\n",
    "plt.imshow(M4)"
   ]
  },
  {
   "cell_type": "code",
   "execution_count": null,
   "metadata": {},
   "outputs": [],
   "source": [
    "# We can mix colors: red and blue make purple \n",
    "M5 = np.zeros((100, 100, 3), dtype='uint8')\n",
    "M5[0:100, 0:100, 0] = 255  # red\n",
    "M5[0:100, 0:100, 2] = 255  # blue\n",
    "plt.imshow(M5)"
   ]
  },
  {
   "cell_type": "markdown",
   "metadata": {},
   "source": [
    "The code below is a bit more complicated. It draws the flag of Ireland (pictured below).\n",
    "\n",
    "<img src=\"img/Flag_of_Ireland.png\" alt=\"Drawing\" style=\"width: 300px;\"/>"
   ]
  },
  {
   "cell_type": "code",
   "execution_count": null,
   "metadata": {
    "scrolled": true
   },
   "outputs": [],
   "source": [
    "# Ireland\n",
    "# Green: R: 22, G: 155, B: 98\n",
    "# White: R: 255, G: 255, B: 255\n",
    "# Orange: R: 255, G: 136, B: 62\n",
    "\n",
    "# Start with 100x300x3 array of 0s\n",
    "ireland = np.zeros((100,300,3),dtype='uint8')\n",
    "\n",
    "# Green goes in the left third\n",
    "ireland[0:100, 0:100, 0] = 22\n",
    "ireland[0:100, 0:100, 1] = 155\n",
    "ireland[0:100, 0:100, 2] = 98\n",
    "\n",
    "# White goes in the middle third\n",
    "ireland[0:100, 100:200, 0] = 255\n",
    "ireland[0:100, 100:200, 1] = 255\n",
    "ireland[0:100, 100:200, 2] = 255\n",
    "\n",
    "# Orange goes in the right third\n",
    "ireland[0:100, 200:300, 0] = 255\n",
    "ireland[0:100, 200:300, 1] = 136\n",
    "ireland[0:100, 200:300, 2] = 62\n",
    "\n",
    "# Show the resulting image without the axes\n",
    "plt.imshow(ireland)\n",
    "plt.axis(\"off\")"
   ]
  },
  {
   "cell_type": "markdown",
   "metadata": {},
   "source": [
    "_Hint._ For more complex colors, to get the necessary values for red, green, and blue, do a Google search for \"RGB color picker\"."
   ]
  },
  {
   "cell_type": "markdown",
   "metadata": {},
   "source": [
    "__Problem 2.__\n",
    "Write code to display a $101 \\times 101$ white box."
   ]
  },
  {
   "cell_type": "code",
   "execution_count": null,
   "metadata": {},
   "outputs": [],
   "source": []
  },
  {
   "cell_type": "markdown",
   "metadata": {},
   "source": [
    "__Problem 3.__\n",
    "Write code that uses appropriately sized arrays to display the flags of the following countries.\n",
    "\n",
    "Italy\n",
    "\n",
    "<img src=\"img/Flag_of_Italy.png\" alt=\"Drawing\" style=\"width: 300px;\"/>"
   ]
  },
  {
   "cell_type": "code",
   "execution_count": null,
   "metadata": {},
   "outputs": [],
   "source": []
  },
  {
   "cell_type": "markdown",
   "metadata": {},
   "source": [
    "Belgium\n",
    "\n",
    "<img src=\"img/Flag_of_Belgium.png\" alt=\"Drawing\" style=\"width: 300px;\"/>"
   ]
  },
  {
   "cell_type": "code",
   "execution_count": null,
   "metadata": {},
   "outputs": [],
   "source": []
  },
  {
   "cell_type": "markdown",
   "metadata": {},
   "source": [
    "Chad\n",
    "\n",
    "<img src=\"img/Flag_of_Chad.png\" alt=\"Drawing\" style=\"width: 300px;\"/>"
   ]
  },
  {
   "cell_type": "code",
   "execution_count": null,
   "metadata": {},
   "outputs": [],
   "source": []
  },
  {
   "cell_type": "markdown",
   "metadata": {},
   "source": [
    "__Problem 4.__\n",
    "Write code that fills in the $41\\times41$ center of your $101\\times101$ white box from Problem 2 with a red box. Display the resulting image."
   ]
  },
  {
   "cell_type": "code",
   "execution_count": null,
   "metadata": {},
   "outputs": [],
   "source": []
  },
  {
   "cell_type": "markdown",
   "metadata": {},
   "source": [
    "__Problem 5.__ \n",
    "Write code that draws a solid blue disk inscribed in a $101 \\times 101$ white box. Display the resulting image.\n",
    "\n",
    "Take some time to think through how you ought to do this question rather than just jumping in to try to code it up. _Hint._ Can you find the distance from `(50, 50)`, the center of the box, to the point `(i, j)`?"
   ]
  },
  {
   "cell_type": "code",
   "execution_count": null,
   "metadata": {},
   "outputs": [],
   "source": []
  },
  {
   "cell_type": "markdown",
   "metadata": {},
   "source": [
    "__Problem 6.__\n",
    "You should have already imported the `image` subpackage of `matplotlib` as `img`. Use its `imread` command to read in the file `herndon2019.jpg` (in the same folder as this notebook) and store it in the matrix `M`. Display the image to reproduce the image below.\n",
    "\n",
    "<img src=\"herndon2019.jpg\" alt=\"Drawing\" style=\"width: 300px;\"/>"
   ]
  },
  {
   "cell_type": "code",
   "execution_count": null,
   "metadata": {},
   "outputs": [],
   "source": []
  },
  {
   "cell_type": "markdown",
   "metadata": {},
   "source": [
    "The matrix `M` is read in to memory in __non-mutable form__ &mdash; that is, we can't change it. But in this question we want to modify the image! \n",
    "\n",
    "Here's how to do that. Make a new array `N` that is the same size as `M`. Now set the values of `N` equal to the values of `M` **using the slicing notation** as in the code below.  \n",
    "\n",
    "(Note that this is similar to the technique we used to copy lists &mdash; see PCC page 63.)"
   ]
  },
  {
   "cell_type": "code",
   "execution_count": null,
   "metadata": {},
   "outputs": [],
   "source": [
    "# Get dimensions of M\n",
    "h, w, c = M.shape\n",
    "\n",
    "# Initialize matrix N to be an array of 0s, same dimension as M\n",
    "N = np.zeros((h, w, c), dtype='uint8')\n",
    "\n",
    "# Copy each entry of M to N\n",
    "N[0:h, 0:w, 0:c] = M[0:h, 0:w, 0:c]"
   ]
  },
  {
   "cell_type": "markdown",
   "metadata": {},
   "source": [
    "Using the slicing notation allows us to change the values of `N`. If we'd just written `N = M`, then the values of `N` would __point to__ the values of `M`, meaning we wouldn't be able to change the values of `N` either, because that would mean that we'd be changing the values of `M`! "
   ]
  },
  {
   "cell_type": "markdown",
   "metadata": {},
   "source": [
    "Now change the values of `N` as follows.\n",
    "\n",
    "Erase the green layer by setting all of the green values of `N` to zero. Display the new image."
   ]
  },
  {
   "cell_type": "code",
   "execution_count": null,
   "metadata": {},
   "outputs": [],
   "source": []
  },
  {
   "cell_type": "markdown",
   "metadata": {},
   "source": [
    "Write the new image to the file `herndon2019-g.jpg` using the code below."
   ]
  },
  {
   "cell_type": "code",
   "execution_count": null,
   "metadata": {},
   "outputs": [],
   "source": [
    "# Save image to file\n",
    "plt.imsave('herndon2019-g.jpg', N, format='jpg')"
   ]
  },
  {
   "cell_type": "markdown",
   "metadata": {},
   "source": [
    "__Problem 7.__\n",
    "Load the file `Reynolds.jpg` (in the same folder as this notebook) into a 3-dimensional NumPy array `M`. Create three 3-dimensional arrays, `M_r`, `M_g`, and `M_b`, which are the red, green and blue components of `M`. For instance, to make `M_r` you should set the blue and green components of the image `M` to zero. Then produce a 1 $\\times$ 3 figure of the components as shown below. \n",
    "\n",
    "<img src=\"img/img_rgb.jpg\" alt=\"Drawing\" style=\"width: 500px;\"/>\n",
    "\n",
    "_Hint._ Recall `fig.add_subplot()` from Project 1."
   ]
  },
  {
   "cell_type": "code",
   "execution_count": null,
   "metadata": {},
   "outputs": [],
   "source": []
  },
  {
   "cell_type": "markdown",
   "metadata": {},
   "source": [
    "__Problem 8.__\n",
    "Load the image `calico_cat_in_greece.jpg` (in the same folder as this notebook) into an array `S`. Using what that you've learned today, make an image with the cat picture surrounded by a black border. One way to do this is to make a larger, all black image, and then set the central pixels equal to the cat picture. Display the new image."
   ]
  },
  {
   "cell_type": "code",
   "execution_count": null,
   "metadata": {},
   "outputs": [],
   "source": []
  },
  {
   "cell_type": "markdown",
   "metadata": {},
   "source": [
    "__Problem 9.__\n",
    "What decimal number is represented by the 8-bit integer $[10101101]_2$? \n",
    "\n",
    "Write code to perform the Base 2 expansion. You may represent $[10101101]_2$ as a list, that is:\n",
    "\n",
    "```python\n",
    "n = [1, 0, 1, 0, 1, 1, 0, 1]\n",
    "```"
   ]
  },
  {
   "cell_type": "code",
   "execution_count": null,
   "metadata": {},
   "outputs": [],
   "source": []
  },
  {
   "cell_type": "markdown",
   "metadata": {},
   "source": [
    "__Problem 10.__\n",
    "In Problem 9, you determined the decimal number represented by the 8-bit integer $[10101101]_2$. \n",
    "\n",
    "Generalize your solution to Problem 9 by creating a function `num_from_bits` that will return the decimal number represented by an 8-bit integer input. You may assume that the 8-bit integer is input as a list.\n",
    "\n",
    "Test your function on the 8-bit integer $[10101101]_2$. Also test that your function returns the number of a famous U.S. highway when applied to $[01000010]_2$. \n",
    "\n",
    "_Challenge._ Can you make your function work with bit vectors of arbitrary length?"
   ]
  },
  {
   "cell_type": "code",
   "execution_count": null,
   "metadata": {},
   "outputs": [],
   "source": []
  },
  {
   "cell_type": "markdown",
   "metadata": {},
   "source": [
    "__Problem 11.__ Create a function `bits_from_num` that takes a decimal number as input and returns the binary representation of the number. Check that your answer returns the correct bit representation for each of the following input: 128, 255, 33, 18 and 0. Also check that if you run `num_from_bits(bits_from_num(13))` you get the number 13 back again.   "
   ]
  },
  {
   "cell_type": "code",
   "execution_count": null,
   "metadata": {},
   "outputs": [],
   "source": []
  }
 ],
 "metadata": {
  "kernelspec": {
   "display_name": "Python 3",
   "language": "python",
   "name": "python3"
  },
  "language_info": {
   "codemirror_mode": {
    "name": "ipython",
    "version": 3
   },
   "file_extension": ".py",
   "mimetype": "text/x-python",
   "name": "python",
   "nbconvert_exporter": "python",
   "pygments_lexer": "ipython3",
   "version": "3.7.6"
  }
 },
 "nbformat": 4,
 "nbformat_minor": 2
}
